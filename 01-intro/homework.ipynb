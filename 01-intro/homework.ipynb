{
 "cells": [
  {
   "cell_type": "code",
   "execution_count": 1,
   "id": "836a75b3-c46d-462e-9baa-b8eb71aa86a4",
   "metadata": {},
   "outputs": [],
   "source": [
    "import pandas as pd\n",
    "import numpy as np\n",
    "\n",
    "import seaborn as sns\n",
    "from matplotlib import pyplot as plt\n",
    "%matplotlib inline"
   ]
  },
  {
   "cell_type": "markdown",
   "id": "7c20516d-bd58-4d3c-8864-0ff084c44130",
   "metadata": {},
   "source": [
    "### Q1. Pandas version"
   ]
  },
  {
   "cell_type": "code",
   "execution_count": 2,
   "id": "dcc43d4c-664d-48df-b5cb-1ea0f722b953",
   "metadata": {},
   "outputs": [
    {
     "data": {
      "text/plain": [
       "'2.3.1'"
      ]
     },
     "execution_count": 2,
     "metadata": {},
     "output_type": "execute_result"
    }
   ],
   "source": [
    "pd.__version__"
   ]
  },
  {
   "cell_type": "code",
   "execution_count": 3,
   "id": "f5a6256f-2015-4be0-9310-9f9bd52905d4",
   "metadata": {},
   "outputs": [],
   "source": [
    "df = pd.read_csv('https://raw.githubusercontent.com/alexeygrigorev/datasets/master/car_fuel_efficiency.csv')"
   ]
  },
  {
   "cell_type": "code",
   "execution_count": 4,
   "id": "0e14fe5a-cbbf-46b2-9078-f406c25ebfcc",
   "metadata": {},
   "outputs": [
    {
     "data": {
      "text/html": [
       "<div>\n",
       "<style scoped>\n",
       "    .dataframe tbody tr th:only-of-type {\n",
       "        vertical-align: middle;\n",
       "    }\n",
       "\n",
       "    .dataframe tbody tr th {\n",
       "        vertical-align: top;\n",
       "    }\n",
       "\n",
       "    .dataframe thead th {\n",
       "        text-align: right;\n",
       "    }\n",
       "</style>\n",
       "<table border=\"1\" class=\"dataframe\">\n",
       "  <thead>\n",
       "    <tr style=\"text-align: right;\">\n",
       "      <th></th>\n",
       "      <th>engine_displacement</th>\n",
       "      <th>num_cylinders</th>\n",
       "      <th>horsepower</th>\n",
       "      <th>vehicle_weight</th>\n",
       "      <th>acceleration</th>\n",
       "      <th>model_year</th>\n",
       "      <th>origin</th>\n",
       "      <th>fuel_type</th>\n",
       "      <th>drivetrain</th>\n",
       "      <th>num_doors</th>\n",
       "      <th>fuel_efficiency_mpg</th>\n",
       "    </tr>\n",
       "  </thead>\n",
       "  <tbody>\n",
       "    <tr>\n",
       "      <th>0</th>\n",
       "      <td>170</td>\n",
       "      <td>3.0</td>\n",
       "      <td>159.0</td>\n",
       "      <td>3413.433759</td>\n",
       "      <td>17.7</td>\n",
       "      <td>2003</td>\n",
       "      <td>Europe</td>\n",
       "      <td>Gasoline</td>\n",
       "      <td>All-wheel drive</td>\n",
       "      <td>0.0</td>\n",
       "      <td>13.231729</td>\n",
       "    </tr>\n",
       "    <tr>\n",
       "      <th>1</th>\n",
       "      <td>130</td>\n",
       "      <td>5.0</td>\n",
       "      <td>97.0</td>\n",
       "      <td>3149.664934</td>\n",
       "      <td>17.8</td>\n",
       "      <td>2007</td>\n",
       "      <td>USA</td>\n",
       "      <td>Gasoline</td>\n",
       "      <td>Front-wheel drive</td>\n",
       "      <td>0.0</td>\n",
       "      <td>13.688217</td>\n",
       "    </tr>\n",
       "    <tr>\n",
       "      <th>2</th>\n",
       "      <td>170</td>\n",
       "      <td>NaN</td>\n",
       "      <td>78.0</td>\n",
       "      <td>3079.038997</td>\n",
       "      <td>15.1</td>\n",
       "      <td>2018</td>\n",
       "      <td>Europe</td>\n",
       "      <td>Gasoline</td>\n",
       "      <td>Front-wheel drive</td>\n",
       "      <td>0.0</td>\n",
       "      <td>14.246341</td>\n",
       "    </tr>\n",
       "    <tr>\n",
       "      <th>3</th>\n",
       "      <td>220</td>\n",
       "      <td>4.0</td>\n",
       "      <td>NaN</td>\n",
       "      <td>2542.392402</td>\n",
       "      <td>20.2</td>\n",
       "      <td>2009</td>\n",
       "      <td>USA</td>\n",
       "      <td>Diesel</td>\n",
       "      <td>All-wheel drive</td>\n",
       "      <td>2.0</td>\n",
       "      <td>16.912736</td>\n",
       "    </tr>\n",
       "    <tr>\n",
       "      <th>4</th>\n",
       "      <td>210</td>\n",
       "      <td>1.0</td>\n",
       "      <td>140.0</td>\n",
       "      <td>3460.870990</td>\n",
       "      <td>14.4</td>\n",
       "      <td>2009</td>\n",
       "      <td>Europe</td>\n",
       "      <td>Gasoline</td>\n",
       "      <td>All-wheel drive</td>\n",
       "      <td>2.0</td>\n",
       "      <td>12.488369</td>\n",
       "    </tr>\n",
       "  </tbody>\n",
       "</table>\n",
       "</div>"
      ],
      "text/plain": [
       "   engine_displacement  num_cylinders  horsepower  vehicle_weight  \\\n",
       "0                  170            3.0       159.0     3413.433759   \n",
       "1                  130            5.0        97.0     3149.664934   \n",
       "2                  170            NaN        78.0     3079.038997   \n",
       "3                  220            4.0         NaN     2542.392402   \n",
       "4                  210            1.0       140.0     3460.870990   \n",
       "\n",
       "   acceleration  model_year  origin fuel_type         drivetrain  num_doors  \\\n",
       "0          17.7        2003  Europe  Gasoline    All-wheel drive        0.0   \n",
       "1          17.8        2007     USA  Gasoline  Front-wheel drive        0.0   \n",
       "2          15.1        2018  Europe  Gasoline  Front-wheel drive        0.0   \n",
       "3          20.2        2009     USA    Diesel    All-wheel drive        2.0   \n",
       "4          14.4        2009  Europe  Gasoline    All-wheel drive        2.0   \n",
       "\n",
       "   fuel_efficiency_mpg  \n",
       "0            13.231729  \n",
       "1            13.688217  \n",
       "2            14.246341  \n",
       "3            16.912736  \n",
       "4            12.488369  "
      ]
     },
     "execution_count": 4,
     "metadata": {},
     "output_type": "execute_result"
    }
   ],
   "source": [
    "df.head()"
   ]
  },
  {
   "cell_type": "markdown",
   "id": "29581efe-1176-4c60-89c8-9769278a68d0",
   "metadata": {},
   "source": [
    "### Q2. Records count"
   ]
  },
  {
   "cell_type": "code",
   "execution_count": 5,
   "id": "db6cf00e-705b-47e1-88b0-6545cfc5dabb",
   "metadata": {},
   "outputs": [
    {
     "data": {
      "text/plain": [
       "(9704, 11)"
      ]
     },
     "execution_count": 5,
     "metadata": {},
     "output_type": "execute_result"
    }
   ],
   "source": [
    "df.shape"
   ]
  },
  {
   "cell_type": "markdown",
   "id": "aaca2965-8ff7-410c-99f8-72ce8bfc3a11",
   "metadata": {},
   "source": [
    "### Q3. Fuel types"
   ]
  },
  {
   "cell_type": "code",
   "execution_count": 8,
   "id": "f8518d2a-2b05-4f8d-9cc9-2daa485a6f7b",
   "metadata": {},
   "outputs": [
    {
     "name": "stdout",
     "output_type": "stream",
     "text": [
      "fuel_type\n",
      "Gasoline    4898\n",
      "Diesel      4806\n",
      "Name: count, dtype: int64\n"
     ]
    }
   ],
   "source": [
    "fuel_type_count = df['fuel_type'].value_counts()\n",
    "print(fuel_type_count)"
   ]
  },
  {
   "cell_type": "markdown",
   "id": "b6cba937-90fc-48e3-a34c-53f1ea13c5b9",
   "metadata": {},
   "source": [
    "### Q4. Missing values"
   ]
  },
  {
   "cell_type": "code",
   "execution_count": 9,
   "id": "ed6591ca-c333-4da0-b0f6-648033fb2f33",
   "metadata": {},
   "outputs": [
    {
     "name": "stdout",
     "output_type": "stream",
     "text": [
      "engine_displacement      0\n",
      "num_cylinders          482\n",
      "horsepower             708\n",
      "vehicle_weight           0\n",
      "acceleration           930\n",
      "model_year               0\n",
      "origin                   0\n",
      "fuel_type                0\n",
      "drivetrain               0\n",
      "num_doors              502\n",
      "fuel_efficiency_mpg      0\n",
      "dtype: int64\n"
     ]
    }
   ],
   "source": [
    "missing_values = df.isnull().sum()\n",
    "print(missing_values)"
   ]
  },
  {
   "cell_type": "markdown",
   "id": "1ff44d9a-4d69-40ce-b6ec-c40e8f0a4714",
   "metadata": {},
   "source": [
    "### Q5. Max fuel efficiency"
   ]
  },
  {
   "cell_type": "code",
   "execution_count": 13,
   "id": "b0911107-7181-428e-8e93-f875b44f89b7",
   "metadata": {},
   "outputs": [
    {
     "name": "stdout",
     "output_type": "stream",
     "text": [
      "23.759122836520497\n"
     ]
    }
   ],
   "source": [
    "max_fuel_efficiency_asia = df[df['origin'] == 'Asia']['fuel_efficiency_mpg'].max()\n",
    "print(max_fuel_efficiency_asia)"
   ]
  },
  {
   "cell_type": "markdown",
   "id": "d249b970-d801-46bb-ba90-416d59811fbd",
   "metadata": {},
   "source": [
    "### Q6. Median value of horsepower"
   ]
  },
  {
   "cell_type": "code",
   "execution_count": 16,
   "id": "9fd81fa8-1552-4781-b7c2-ae574c92b116",
   "metadata": {},
   "outputs": [
    {
     "name": "stdout",
     "output_type": "stream",
     "text": [
      "Median horsepower (before filling): 149.0\n",
      "Most frequent horsepower value: 0    152.0\n",
      "Name: horsepower, dtype: float64\n",
      "Median horsepower (after filling): 149.0\n",
      "\n",
      "Median before: 149.0\n",
      "Median after: 149.0\n",
      "Answer: No\n"
     ]
    }
   ],
   "source": [
    "# Find the median value of horsepower\n",
    "median_before = df['horsepower'].median()\n",
    "print(f\"Median horsepower (before filling): {median_before}\")\n",
    "\n",
    "# Calculate the most frequent value (mode) of horsepower\n",
    "most_frequent = df['horsepower'].mode()\n",
    "print(f\"Most frequent horsepower value: {most_frequent}\")\n",
    "\n",
    "# Fill missing values with the most frequent value \n",
    "df['horsepower'] = df['horsepower'].fillna(most_frequent)\n",
    "\n",
    "# Calculate the median again (after filling)\n",
    "median_after = df['horsepower'].median()\n",
    "print(f\"Median horsepower (after filling): {median_after}\")\n",
    "\n",
    "# Compare the medians\n",
    "print(f\"\\nMedian before: {median_before}\")\n",
    "print(f\"Median after: {median_after}\")\n",
    "\n",
    "if median_after > median_before:\n",
    "    print(\"Answer: Yes, it increased\")\n",
    "elif median_after < median_before:\n",
    "    print(\"Answer: Yes, it decreased\")\n",
    "else:\n",
    "    print(\"Answer: No\")"
   ]
  },
  {
   "cell_type": "markdown",
   "id": "003e318f-32e4-4d58-a8ec-374764e79bd3",
   "metadata": {},
   "source": [
    "### Q7. Sum of weights"
   ]
  },
  {
   "cell_type": "code",
   "execution_count": 17,
   "id": "9da138b0-9a60-474d-95bd-7c9f16e9c9be",
   "metadata": {},
   "outputs": [
    {
     "name": "stdout",
     "output_type": "stream",
     "text": [
      "X shape: (7, 2)\n",
      "X:\n",
      " [[2714.21930965 2016.        ]\n",
      " [2783.86897424 2010.        ]\n",
      " [3582.68736772 2007.        ]\n",
      " [2231.8081416  2011.        ]\n",
      " [2659.43145076 2016.        ]\n",
      " [2844.22753389 2014.        ]\n",
      " [3761.99403819 2019.        ]]\n",
      "\n",
      "XTX:\n",
      " [[62248334.33150762 41431216.5073268 ]\n",
      " [41431216.5073268  28373339.        ]]\n",
      "\n",
      "XTX inverse:\n",
      " [[ 5.71497081e-07 -8.34509443e-07]\n",
      " [-8.34509443e-07  1.25380877e-06]]\n",
      "\n",
      "y: [1100 1300  800  900 1000 1100 1200]\n",
      "\n",
      "w: [0.01386421 0.5049067 ]\n",
      "\n",
      "Sum of all elements in w: 0.5187709081074016\n"
     ]
    }
   ],
   "source": [
    "\n",
    "# Select all cars from Asia\n",
    "asia_cars = df[df['origin'] == 'Asia']\n",
    "\n",
    "# Select only columns 'vehicle_weight' and 'model_year'\n",
    "selected_columns = asia_cars[['vehicle_weight', 'model_year']]\n",
    "\n",
    "# Select the first 7 values\n",
    "first_7 = selected_columns.head(7)\n",
    "\n",
    "# Get the underlying NumPy array\n",
    "X = first_7.values\n",
    "print(\"X shape:\", X.shape)\n",
    "print(\"X:\\n\", X)\n",
    "\n",
    "# Compute XTX (X transpose times X)\n",
    "XTX = np.dot(X.T, X)\n",
    "print(\"\\nXTX:\\n\", XTX)\n",
    "\n",
    "# Invert XTX\n",
    "XTX_inv = np.linalg.inv(XTX)\n",
    "print(\"\\nXTX inverse:\\n\", XTX_inv)\n",
    "\n",
    "# Create array y\n",
    "y = np.array([1100, 1300, 800, 900, 1000, 1100, 1200])\n",
    "print(\"\\ny:\", y)\n",
    "\n",
    "# Multiply inverse of XTX with transpose of X, then multiply by y\n",
    "# w = (XTX)^(-1) * X^T * y\n",
    "w =  np.dot(np.dot(XTX_inv, X.T), y)\n",
    "print(\"\\nw:\", w)\n",
    "\n",
    "# Sum of all elements of w\n",
    "sum_w = w.sum()\n",
    "print(f\"\\nSum of all elements in w: {sum_w}\")"
   ]
  },
  {
   "cell_type": "code",
   "execution_count": null,
   "id": "f0aaf56b-e446-4427-bf9d-6b4012b57cf5",
   "metadata": {},
   "outputs": [],
   "source": [
    "#These are the linear regression coefficients\n",
    "# w[0] = 0.01386421 → coefficient for vehicle_weight\n",
    "# w[1] = 0.5049067 → coefficient for model_year"
   ]
  },
  {
   "cell_type": "code",
   "execution_count": 18,
   "id": "57aaa61f-eb1d-4c0c-8dbf-18789e23c280",
   "metadata": {},
   "outputs": [
    {
     "name": "stdout",
     "output_type": "stream",
     "text": [
      "Predicted value: 1058.9796305000002\n"
     ]
    }
   ],
   "source": [
    "# Example prediction\n",
    "new_weight = 3000\n",
    "new_year = 2015\n",
    "prediction = 0.01386421 * new_weight + 0.5049067 * new_year\n",
    "print(f\"Predicted value: {prediction}\")"
   ]
  },
  {
   "cell_type": "code",
   "execution_count": null,
   "id": "587ed244-3d97-4d0a-892d-f2d3e52011e2",
   "metadata": {},
   "outputs": [],
   "source": []
  }
 ],
 "metadata": {
  "kernelspec": {
   "display_name": "Python 3 (ipykernel)",
   "language": "python",
   "name": "python3"
  },
  "language_info": {
   "codemirror_mode": {
    "name": "ipython",
    "version": 3
   },
   "file_extension": ".py",
   "mimetype": "text/x-python",
   "name": "python",
   "nbconvert_exporter": "python",
   "pygments_lexer": "ipython3",
   "version": "3.12.1"
  }
 },
 "nbformat": 4,
 "nbformat_minor": 5
}
